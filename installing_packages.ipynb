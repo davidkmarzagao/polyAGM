{
 "cells": [
  {
   "cell_type": "code",
   "execution_count": 19,
   "id": "a0ccd12f",
   "metadata": {},
   "outputs": [
    {
     "name": "stdout",
     "output_type": "stream",
     "text": [
      "Requirement already satisfied: argon2-cffi in /Users/david/opt/anaconda3/envs/polyAGM/lib/python3.9/site-packages (from -r requirements_polyagm.txt (line 1)) (21.3.0)\n",
      "Requirement already satisfied: argon2-cffi-bindings in /Users/david/opt/anaconda3/envs/polyAGM/lib/python3.9/site-packages (from -r requirements_polyagm.txt (line 2)) (21.2.0)\n",
      "Requirement already satisfied: attrs in /Users/david/opt/anaconda3/envs/polyAGM/lib/python3.9/site-packages (from -r requirements_polyagm.txt (line 3)) (22.1.0)\n",
      "Requirement already satisfied: backcall in /Users/david/opt/anaconda3/envs/polyAGM/lib/python3.9/site-packages (from -r requirements_polyagm.txt (line 4)) (0.2.0)\n",
      "Requirement already satisfied: bayesian-optimization in /Users/david/opt/anaconda3/envs/polyAGM/lib/python3.9/site-packages (from -r requirements_polyagm.txt (line 5)) (1.1.0)\n",
      "Requirement already satisfied: beautifulsoup4 in /Users/david/opt/anaconda3/envs/polyAGM/lib/python3.9/site-packages (from -r requirements_polyagm.txt (line 6)) (4.11.1)\n",
      "Requirement already satisfied: bleach in /Users/david/opt/anaconda3/envs/polyAGM/lib/python3.9/site-packages (from -r requirements_polyagm.txt (line 7)) (4.1.0)\n",
      "Requirement already satisfied: Bottleneck in /Users/david/opt/anaconda3/envs/polyAGM/lib/python3.9/site-packages (from -r requirements_polyagm.txt (line 8)) (1.3.5)\n",
      "Requirement already satisfied: certifi in /Users/david/opt/anaconda3/envs/polyAGM/lib/python3.9/site-packages (from -r requirements_polyagm.txt (line 9)) (2022.12.7)\n",
      "Requirement already satisfied: cffi in /Users/david/opt/anaconda3/envs/polyAGM/lib/python3.9/site-packages (from -r requirements_polyagm.txt (line 10)) (1.15.1)\n",
      "Requirement already satisfied: colorama in /Users/david/opt/anaconda3/envs/polyAGM/lib/python3.9/site-packages (from -r requirements_polyagm.txt (line 11)) (0.4.6)\n",
      "Requirement already satisfied: cycler in /Users/david/opt/anaconda3/envs/polyAGM/lib/python3.9/site-packages (from -r requirements_polyagm.txt (line 12)) (0.11.0)\n",
      "Requirement already satisfied: Cython==0.29.30 in /Users/david/opt/anaconda3/envs/polyAGM/lib/python3.9/site-packages (from -r requirements_polyagm.txt (line 13)) (0.29.30)\n",
      "Requirement already satisfied: debugpy in /Users/david/opt/anaconda3/envs/polyAGM/lib/python3.9/site-packages (from -r requirements_polyagm.txt (line 14)) (1.5.1)\n",
      "Requirement already satisfied: decorator in /Users/david/opt/anaconda3/envs/polyAGM/lib/python3.9/site-packages (from -r requirements_polyagm.txt (line 15)) (5.1.1)\n",
      "Requirement already satisfied: defusedxml in /Users/david/opt/anaconda3/envs/polyAGM/lib/python3.9/site-packages (from -r requirements_polyagm.txt (line 16)) (0.7.1)\n",
      "Requirement already satisfied: entrypoints in /Users/david/opt/anaconda3/envs/polyAGM/lib/python3.9/site-packages (from -r requirements_polyagm.txt (line 17)) (0.4)\n",
      "Requirement already satisfied: et-xmlfile==1.1.0 in /Users/david/opt/anaconda3/envs/polyAGM/lib/python3.9/site-packages (from -r requirements_polyagm.txt (line 18)) (1.1.0)\n",
      "Requirement already satisfied: fastjsonschema in /Users/david/opt/anaconda3/envs/polyAGM/lib/python3.9/site-packages (from -r requirements_polyagm.txt (line 19)) (2.16.2)\n",
      "Requirement already satisfied: fonttools==4.33.3 in /Users/david/opt/anaconda3/envs/polyAGM/lib/python3.9/site-packages (from -r requirements_polyagm.txt (line 20)) (4.33.3)\n",
      "Requirement already satisfied: future==0.18.2 in /Users/david/opt/anaconda3/envs/polyAGM/lib/python3.9/site-packages (from -r requirements_polyagm.txt (line 21)) (0.18.2)\n",
      "Requirement already satisfied: grakel==0.1.8 in /Users/david/opt/anaconda3/envs/polyAGM/lib/python3.9/site-packages (from -r requirements_polyagm.txt (line 22)) (0.1.8)\n",
      "Requirement already satisfied: imageio==2.19.2 in /Users/david/opt/anaconda3/envs/polyAGM/lib/python3.9/site-packages (from -r requirements_polyagm.txt (line 23)) (2.19.2)\n",
      "Requirement already satisfied: importlib-metadata in /Users/david/opt/anaconda3/envs/polyAGM/lib/python3.9/site-packages (from -r requirements_polyagm.txt (line 24)) (4.11.3)\n",
      "Requirement already satisfied: importlib-resources in /Users/david/opt/anaconda3/envs/polyAGM/lib/python3.9/site-packages (from -r requirements_polyagm.txt (line 25)) (5.10.2)\n",
      "Requirement already satisfied: ipykernel in /Users/david/opt/anaconda3/envs/polyAGM/lib/python3.9/site-packages (from -r requirements_polyagm.txt (line 26)) (6.19.2)\n",
      "Requirement already satisfied: ipython in /Users/david/opt/anaconda3/envs/polyAGM/lib/python3.9/site-packages (from -r requirements_polyagm.txt (line 27)) (8.7.0)\n",
      "Requirement already satisfied: ipython-genutils in /Users/david/opt/anaconda3/envs/polyAGM/lib/python3.9/site-packages (from -r requirements_polyagm.txt (line 28)) (0.2.0)\n",
      "Requirement already satisfied: jedi in /Users/david/opt/anaconda3/envs/polyAGM/lib/python3.9/site-packages (from -r requirements_polyagm.txt (line 29)) (0.18.1)\n",
      "Requirement already satisfied: Jinja2 in /Users/david/opt/anaconda3/envs/polyAGM/lib/python3.9/site-packages (from -r requirements_polyagm.txt (line 30)) (3.1.2)\n",
      "Requirement already satisfied: joblib in /Users/david/opt/anaconda3/envs/polyAGM/lib/python3.9/site-packages (from -r requirements_polyagm.txt (line 31)) (1.2.0)\n",
      "Requirement already satisfied: jsonschema in /Users/david/opt/anaconda3/envs/polyAGM/lib/python3.9/site-packages (from -r requirements_polyagm.txt (line 32)) (4.16.0)\n",
      "Requirement already satisfied: jupyter-client in /Users/david/opt/anaconda3/envs/polyAGM/lib/python3.9/site-packages (from -r requirements_polyagm.txt (line 33)) (7.4.8)\n",
      "Requirement already satisfied: jupyter-core in /Users/david/opt/anaconda3/envs/polyAGM/lib/python3.9/site-packages (from -r requirements_polyagm.txt (line 34)) (5.1.1)\n",
      "Requirement already satisfied: jupyterlab-pygments in /Users/david/opt/anaconda3/envs/polyAGM/lib/python3.9/site-packages (from -r requirements_polyagm.txt (line 35)) (0.1.2)\n",
      "Requirement already satisfied: kiwisolver in /Users/david/opt/anaconda3/envs/polyAGM/lib/python3.9/site-packages (from -r requirements_polyagm.txt (line 36)) (1.4.4)\n",
      "Requirement already satisfied: lime==0.2.0.1 in /Users/david/opt/anaconda3/envs/polyAGM/lib/python3.9/site-packages (from -r requirements_polyagm.txt (line 37)) (0.2.0.1)\n",
      "Requirement already satisfied: MarkupSafe in /Users/david/opt/anaconda3/envs/polyAGM/lib/python3.9/site-packages (from -r requirements_polyagm.txt (line 38)) (2.1.1)\n",
      "Requirement already satisfied: matplotlib in /Users/david/opt/anaconda3/envs/polyAGM/lib/python3.9/site-packages (from -r requirements_polyagm.txt (line 39)) (3.6.3)\n",
      "Requirement already satisfied: matplotlib-inline in /Users/david/opt/anaconda3/envs/polyAGM/lib/python3.9/site-packages (from -r requirements_polyagm.txt (line 40)) (0.1.6)\n",
      "Requirement already satisfied: mistune in /Users/david/opt/anaconda3/envs/polyAGM/lib/python3.9/site-packages (from -r requirements_polyagm.txt (line 41)) (0.8.4)\n",
      "Requirement already satisfied: mkl-fft==1.3.1 in /Users/david/opt/anaconda3/envs/polyAGM/lib/python3.9/site-packages (from -r requirements_polyagm.txt (line 42)) (1.3.1)\n",
      "Requirement already satisfied: mkl-random in /Users/david/opt/anaconda3/envs/polyAGM/lib/python3.9/site-packages (from -r requirements_polyagm.txt (line 43)) (1.2.2)\n",
      "Requirement already satisfied: mkl-service==2.4.0 in /Users/david/opt/anaconda3/envs/polyAGM/lib/python3.9/site-packages (from -r requirements_polyagm.txt (line 44)) (2.4.0)\n",
      "Requirement already satisfied: mpld3==0.5.7 in /Users/david/opt/anaconda3/envs/polyAGM/lib/python3.9/site-packages (from -r requirements_polyagm.txt (line 45)) (0.5.7)\n",
      "Requirement already satisfied: munkres==1.1.4 in /Users/david/opt/anaconda3/envs/polyAGM/lib/python3.9/site-packages (from -r requirements_polyagm.txt (line 46)) (1.1.4)\n",
      "Requirement already satisfied: nbclient in /Users/david/opt/anaconda3/envs/polyAGM/lib/python3.9/site-packages (from -r requirements_polyagm.txt (line 47)) (0.5.13)\n",
      "Requirement already satisfied: nbconvert in /Users/david/opt/anaconda3/envs/polyAGM/lib/python3.9/site-packages (from -r requirements_polyagm.txt (line 48)) (6.5.4)\n",
      "Requirement already satisfied: nbformat in /Users/david/opt/anaconda3/envs/polyAGM/lib/python3.9/site-packages (from -r requirements_polyagm.txt (line 49)) (5.7.0)\n",
      "Requirement already satisfied: nest-asyncio in /Users/david/opt/anaconda3/envs/polyAGM/lib/python3.9/site-packages (from -r requirements_polyagm.txt (line 50)) (1.5.6)\n",
      "Requirement already satisfied: networkx==2.6.3 in /Users/david/opt/anaconda3/envs/polyAGM/lib/python3.9/site-packages (from -r requirements_polyagm.txt (line 51)) (2.6.3)\n",
      "Requirement already satisfied: nose==1.3.7 in /Users/david/opt/anaconda3/envs/polyAGM/lib/python3.9/site-packages (from -r requirements_polyagm.txt (line 52)) (1.3.7)\n",
      "Requirement already satisfied: notebook in /Users/david/opt/anaconda3/envs/polyAGM/lib/python3.9/site-packages (from -r requirements_polyagm.txt (line 53)) (6.5.2)\n",
      "Requirement already satisfied: numexpr in /Users/david/opt/anaconda3/envs/polyAGM/lib/python3.9/site-packages (from -r requirements_polyagm.txt (line 54)) (2.8.4)\n",
      "Requirement already satisfied: numpy in /Users/david/opt/anaconda3/envs/polyAGM/lib/python3.9/site-packages (from -r requirements_polyagm.txt (line 55)) (1.22.4)\n",
      "Requirement already satisfied: openpyxl in /Users/david/opt/anaconda3/envs/polyAGM/lib/python3.9/site-packages (from -r requirements_polyagm.txt (line 56)) (3.0.10)\n",
      "Requirement already satisfied: packaging in /Users/david/opt/anaconda3/envs/polyAGM/lib/python3.9/site-packages (from -r requirements_polyagm.txt (line 57)) (22.0)\n",
      "Requirement already satisfied: pandas in /Users/david/opt/anaconda3/envs/polyAGM/lib/python3.9/site-packages (from -r requirements_polyagm.txt (line 58)) (1.5.2)\n",
      "Requirement already satisfied: pandocfilters in /Users/david/opt/anaconda3/envs/polyAGM/lib/python3.9/site-packages (from -r requirements_polyagm.txt (line 59)) (1.5.0)\n",
      "Requirement already satisfied: parso in /Users/david/opt/anaconda3/envs/polyAGM/lib/python3.9/site-packages (from -r requirements_polyagm.txt (line 60)) (0.8.3)\n",
      "Requirement already satisfied: pbr==5.9.0 in /Users/david/opt/anaconda3/envs/polyAGM/lib/python3.9/site-packages (from -r requirements_polyagm.txt (line 61)) (5.9.0)\n",
      "Requirement already satisfied: pickleshare in /Users/david/opt/anaconda3/envs/polyAGM/lib/python3.9/site-packages (from -r requirements_polyagm.txt (line 62)) (0.7.5)\n",
      "Requirement already satisfied: Pillow==9.1.1 in /Users/david/opt/anaconda3/envs/polyAGM/lib/python3.9/site-packages (from -r requirements_polyagm.txt (line 63)) (9.1.1)\n",
      "Requirement already satisfied: plotly in /Users/david/opt/anaconda3/envs/polyAGM/lib/python3.9/site-packages (from -r requirements_polyagm.txt (line 64)) (5.12.0)\n",
      "Requirement already satisfied: prometheus-client in /Users/david/opt/anaconda3/envs/polyAGM/lib/python3.9/site-packages (from -r requirements_polyagm.txt (line 65)) (0.14.1)\n",
      "Requirement already satisfied: prompt-toolkit in /Users/david/opt/anaconda3/envs/polyAGM/lib/python3.9/site-packages (from -r requirements_polyagm.txt (line 66)) (3.0.36)\n",
      "Requirement already satisfied: pycparser in /Users/david/opt/anaconda3/envs/polyAGM/lib/python3.9/site-packages (from -r requirements_polyagm.txt (line 67)) (2.21)\n",
      "Requirement already satisfied: Pygments in /Users/david/opt/anaconda3/envs/polyAGM/lib/python3.9/site-packages (from -r requirements_polyagm.txt (line 68)) (2.11.2)\n",
      "Requirement already satisfied: pyGPs==1.3.5 in /Users/david/opt/anaconda3/envs/polyAGM/lib/python3.9/site-packages (from -r requirements_polyagm.txt (line 69)) (1.3.5)\n",
      "Requirement already satisfied: pyparsing==3.0.9 in /Users/david/opt/anaconda3/envs/polyAGM/lib/python3.9/site-packages (from -r requirements_polyagm.txt (line 70)) (3.0.9)\n",
      "Requirement already satisfied: pyrsistent in /Users/david/opt/anaconda3/envs/polyAGM/lib/python3.9/site-packages (from -r requirements_polyagm.txt (line 71)) (0.18.0)\n",
      "Requirement already satisfied: pysmiles==1.0.1 in /Users/david/opt/anaconda3/envs/polyAGM/lib/python3.9/site-packages (from -r requirements_polyagm.txt (line 72)) (1.0.1)\n",
      "Requirement already satisfied: python-dateutil in /Users/david/opt/anaconda3/envs/polyAGM/lib/python3.9/site-packages (from -r requirements_polyagm.txt (line 73)) (2.8.2)\n",
      "Requirement already satisfied: pytz==2021.3 in /Users/david/opt/anaconda3/envs/polyAGM/lib/python3.9/site-packages (from -r requirements_polyagm.txt (line 74)) (2021.3)\n",
      "Requirement already satisfied: PyWavelets==1.3.0 in /Users/david/opt/anaconda3/envs/polyAGM/lib/python3.9/site-packages (from -r requirements_polyagm.txt (line 75)) (1.3.0)\n",
      "Requirement already satisfied: pyzmq in /Users/david/opt/anaconda3/envs/polyAGM/lib/python3.9/site-packages (from -r requirements_polyagm.txt (line 76)) (23.2.0)\n"
     ]
    },
    {
     "name": "stdout",
     "output_type": "stream",
     "text": [
      "Collecting rdkit\n",
      "  Downloading rdkit-2022.9.3-cp39-cp39-macosx_10_9_x86_64.whl (24.7 MB)\n",
      "\u001b[2K     \u001b[90m━━━━━━━━━━━━━━━━━━━━━━━━━━━━━━━━━━━━━━━━\u001b[0m \u001b[32m24.7/24.7 MB\u001b[0m \u001b[31m5.0 MB/s\u001b[0m eta \u001b[36m0:00:00\u001b[0m00:01\u001b[0m00:01\u001b[0m\n",
      "\u001b[?25hRequirement already satisfied: scikit-image==0.19.2 in /Users/david/opt/anaconda3/envs/polyAGM/lib/python3.9/site-packages (from -r requirements_polyagm.txt (line 78)) (0.19.2)\n",
      "Requirement already satisfied: scikit-learn in /Users/david/opt/anaconda3/envs/polyAGM/lib/python3.9/site-packages (from -r requirements_polyagm.txt (line 79)) (1.2.0)\n",
      "Requirement already satisfied: scipy in /Users/david/opt/anaconda3/envs/polyAGM/lib/python3.9/site-packages (from -r requirements_polyagm.txt (line 80)) (1.10.0)\n",
      "Requirement already satisfied: sip in /Users/david/opt/anaconda3/envs/polyAGM/lib/python3.9/site-packages (from -r requirements_polyagm.txt (line 81)) (6.7.5)\n",
      "Requirement already satisfied: six in /Users/david/opt/anaconda3/envs/polyAGM/lib/python3.9/site-packages (from -r requirements_polyagm.txt (line 82)) (1.16.0)\n",
      "Requirement already satisfied: soupsieve in /Users/david/opt/anaconda3/envs/polyAGM/lib/python3.9/site-packages (from -r requirements_polyagm.txt (line 83)) (2.3.2.post1)\n",
      "Requirement already satisfied: tenacity in /Users/david/opt/anaconda3/envs/polyAGM/lib/python3.9/site-packages (from -r requirements_polyagm.txt (line 84)) (8.1.0)\n",
      "Requirement already satisfied: terminado in /Users/david/opt/anaconda3/envs/polyAGM/lib/python3.9/site-packages (from -r requirements_polyagm.txt (line 85)) (0.17.1)\n",
      "Requirement already satisfied: testpath in /Users/david/opt/anaconda3/envs/polyAGM/lib/python3.9/site-packages (from -r requirements_polyagm.txt (line 86)) (0.6.0)\n",
      "Requirement already satisfied: threadpoolctl in /Users/david/opt/anaconda3/envs/polyAGM/lib/python3.9/site-packages (from -r requirements_polyagm.txt (line 87)) (3.1.0)\n",
      "Requirement already satisfied: tifffile==2021.11.2 in /Users/david/opt/anaconda3/envs/polyAGM/lib/python3.9/site-packages (from -r requirements_polyagm.txt (line 88)) (2021.11.2)\n",
      "Requirement already satisfied: tornado in /Users/david/opt/anaconda3/envs/polyAGM/lib/python3.9/site-packages (from -r requirements_polyagm.txt (line 89)) (6.2)\n",
      "Requirement already satisfied: tqdm==4.64.0 in /Users/david/opt/anaconda3/envs/polyAGM/lib/python3.9/site-packages (from -r requirements_polyagm.txt (line 90)) (4.64.0)\n",
      "Requirement already satisfied: traitlets in /Users/david/opt/anaconda3/envs/polyAGM/lib/python3.9/site-packages (from -r requirements_polyagm.txt (line 91)) (5.7.1)\n",
      "Requirement already satisfied: typing_extensions==4.2.0 in /Users/david/opt/anaconda3/envs/polyAGM/lib/python3.9/site-packages (from -r requirements_polyagm.txt (line 92)) (4.2.0)\n",
      "Requirement already satisfied: wcwidth in /Users/david/opt/anaconda3/envs/polyAGM/lib/python3.9/site-packages (from -r requirements_polyagm.txt (line 93)) (0.2.5)\n",
      "Requirement already satisfied: webencodings==0.5.1 in /Users/david/opt/anaconda3/envs/polyAGM/lib/python3.9/site-packages (from -r requirements_polyagm.txt (line 94)) (0.5.1)\n",
      "Requirement already satisfied: wincertstore==0.2 in /Users/david/opt/anaconda3/envs/polyAGM/lib/python3.9/site-packages (from -r requirements_polyagm.txt (line 95)) (0.2)\n",
      "Requirement already satisfied: zipp in /Users/david/opt/anaconda3/envs/polyAGM/lib/python3.9/site-packages (from -r requirements_polyagm.txt (line 96)) (3.11.0)\n",
      "Requirement already satisfied: dpcpp_cpp_rt in /Users/david/opt/anaconda3/envs/polyAGM/lib/python3.9/site-packages (from mkl-fft==1.3.1->-r requirements_polyagm.txt (line 42)) (2023.0.0)\n",
      "Requirement already satisfied: mkl in /Users/david/opt/anaconda3/envs/polyAGM/lib/python3.9/site-packages (from mkl-fft==1.3.1->-r requirements_polyagm.txt (line 42)) (2023.0.0)\n",
      "Requirement already satisfied: comm>=0.1.1 in /Users/david/opt/anaconda3/envs/polyAGM/lib/python3.9/site-packages (from ipykernel->-r requirements_polyagm.txt (line 26)) (0.1.2)\n",
      "Requirement already satisfied: appnope in /Users/david/opt/anaconda3/envs/polyAGM/lib/python3.9/site-packages (from ipykernel->-r requirements_polyagm.txt (line 26)) (0.1.2)\n",
      "Requirement already satisfied: psutil in /Users/david/opt/anaconda3/envs/polyAGM/lib/python3.9/site-packages (from ipykernel->-r requirements_polyagm.txt (line 26)) (5.9.0)\n",
      "Requirement already satisfied: pexpect>4.3 in /Users/david/opt/anaconda3/envs/polyAGM/lib/python3.9/site-packages (from ipython->-r requirements_polyagm.txt (line 27)) (4.8.0)\n",
      "Requirement already satisfied: stack-data in /Users/david/opt/anaconda3/envs/polyAGM/lib/python3.9/site-packages (from ipython->-r requirements_polyagm.txt (line 27)) (0.2.0)\n",
      "Requirement already satisfied: platformdirs>=2.5 in /Users/david/opt/anaconda3/envs/polyAGM/lib/python3.9/site-packages (from jupyter-core->-r requirements_polyagm.txt (line 34)) (2.5.2)\n",
      "Requirement already satisfied: contourpy>=1.0.1 in /Users/david/opt/anaconda3/envs/polyAGM/lib/python3.9/site-packages (from matplotlib->-r requirements_polyagm.txt (line 39)) (1.0.7)\n",
      "Requirement already satisfied: lxml in /Users/david/opt/anaconda3/envs/polyAGM/lib/python3.9/site-packages (from nbconvert->-r requirements_polyagm.txt (line 48)) (4.9.1)\n",
      "Requirement already satisfied: tinycss2 in /Users/david/opt/anaconda3/envs/polyAGM/lib/python3.9/site-packages (from nbconvert->-r requirements_polyagm.txt (line 48)) (1.2.1)\n",
      "Requirement already satisfied: nbclassic>=0.4.7 in /Users/david/opt/anaconda3/envs/polyAGM/lib/python3.9/site-packages (from notebook->-r requirements_polyagm.txt (line 53)) (0.4.8)\n",
      "Requirement already satisfied: Send2Trash>=1.8.0 in /Users/david/opt/anaconda3/envs/polyAGM/lib/python3.9/site-packages (from notebook->-r requirements_polyagm.txt (line 53)) (1.8.0)\n",
      "Requirement already satisfied: ply in /Users/david/opt/anaconda3/envs/polyAGM/lib/python3.9/site-packages (from sip->-r requirements_polyagm.txt (line 81)) (3.11)\n",
      "Requirement already satisfied: toml in /Users/david/opt/anaconda3/envs/polyAGM/lib/python3.9/site-packages (from sip->-r requirements_polyagm.txt (line 81)) (0.10.2)\n",
      "Requirement already satisfied: setuptools in /Users/david/opt/anaconda3/envs/polyAGM/lib/python3.9/site-packages (from sip->-r requirements_polyagm.txt (line 81)) (65.6.3)\n",
      "Requirement already satisfied: ptyprocess in /Users/david/opt/anaconda3/envs/polyAGM/lib/python3.9/site-packages (from terminado->-r requirements_polyagm.txt (line 85)) (0.7.0)\n",
      "Requirement already satisfied: notebook-shim>=0.1.0 in /Users/david/opt/anaconda3/envs/polyAGM/lib/python3.9/site-packages (from nbclassic>=0.4.7->notebook->-r requirements_polyagm.txt (line 53)) (0.2.2)\n",
      "Requirement already satisfied: jupyter-server>=1.8 in /Users/david/opt/anaconda3/envs/polyAGM/lib/python3.9/site-packages (from nbclassic>=0.4.7->notebook->-r requirements_polyagm.txt (line 53)) (1.23.4)\n",
      "Requirement already satisfied: intel-cmplr-lic-rt==2023.0.0 in /Users/david/opt/anaconda3/envs/polyAGM/lib/python3.9/site-packages (from dpcpp_cpp_rt->mkl-fft==1.3.1->-r requirements_polyagm.txt (line 42)) (2023.0.0)\n",
      "Requirement already satisfied: intel-openmp==2023.0.0 in /Users/david/opt/anaconda3/envs/polyAGM/lib/python3.9/site-packages (from dpcpp_cpp_rt->mkl-fft==1.3.1->-r requirements_polyagm.txt (line 42)) (2023.0.0)\n",
      "Requirement already satisfied: tbb==2021.* in /Users/david/opt/anaconda3/envs/polyAGM/lib/python3.9/site-packages (from mkl->mkl-fft==1.3.1->-r requirements_polyagm.txt (line 42)) (2021.8.0)\n",
      "Requirement already satisfied: pure-eval in /Users/david/opt/anaconda3/envs/polyAGM/lib/python3.9/site-packages (from stack-data->ipython->-r requirements_polyagm.txt (line 27)) (0.2.2)\n",
      "Requirement already satisfied: executing in /Users/david/opt/anaconda3/envs/polyAGM/lib/python3.9/site-packages (from stack-data->ipython->-r requirements_polyagm.txt (line 27)) (0.8.3)\n",
      "Requirement already satisfied: asttokens in /Users/david/opt/anaconda3/envs/polyAGM/lib/python3.9/site-packages (from stack-data->ipython->-r requirements_polyagm.txt (line 27)) (2.0.5)\n",
      "Requirement already satisfied: anyio<4,>=3.1.0 in /Users/david/opt/anaconda3/envs/polyAGM/lib/python3.9/site-packages (from jupyter-server>=1.8->nbclassic>=0.4.7->notebook->-r requirements_polyagm.txt (line 53)) (3.5.0)\n",
      "Requirement already satisfied: websocket-client in /Users/david/opt/anaconda3/envs/polyAGM/lib/python3.9/site-packages (from jupyter-server>=1.8->nbclassic>=0.4.7->notebook->-r requirements_polyagm.txt (line 53)) (0.58.0)\n",
      "Requirement already satisfied: sniffio>=1.1 in /Users/david/opt/anaconda3/envs/polyAGM/lib/python3.9/site-packages (from anyio<4,>=3.1.0->jupyter-server>=1.8->nbclassic>=0.4.7->notebook->-r requirements_polyagm.txt (line 53)) (1.2.0)\n",
      "Requirement already satisfied: idna>=2.8 in /Users/david/opt/anaconda3/envs/polyAGM/lib/python3.9/site-packages (from anyio<4,>=3.1.0->jupyter-server>=1.8->nbclassic>=0.4.7->notebook->-r requirements_polyagm.txt (line 53)) (3.4)\n"
     ]
    },
    {
     "name": "stdout",
     "output_type": "stream",
     "text": [
      "Installing collected packages: rdkit\n",
      "Successfully installed rdkit-2022.9.3\n"
     ]
    }
   ],
   "source": [
    "!pip install -r requirements_polyagm.txt"
   ]
  },
  {
   "cell_type": "code",
   "execution_count": 5,
   "id": "8d2a5445",
   "metadata": {},
   "outputs": [
    {
     "name": "stdout",
     "output_type": "stream",
     "text": [
      "Untitled.ipynb           requirements_polyagm.txt\r\n"
     ]
    }
   ],
   "source": [
    "!ls"
   ]
  },
  {
   "cell_type": "code",
   "execution_count": null,
   "id": "43676e89",
   "metadata": {},
   "outputs": [],
   "source": []
  },
  {
   "cell_type": "code",
   "execution_count": null,
   "id": "5b3a45d4",
   "metadata": {},
   "outputs": [],
   "source": []
  }
 ],
 "metadata": {
  "kernelspec": {
   "display_name": "Python 3 (ipykernel)",
   "language": "python",
   "name": "python3"
  },
  "language_info": {
   "codemirror_mode": {
    "name": "ipython",
    "version": 3
   },
   "file_extension": ".py",
   "mimetype": "text/x-python",
   "name": "python",
   "nbconvert_exporter": "python",
   "pygments_lexer": "ipython3",
   "version": "3.9.15"
  }
 },
 "nbformat": 4,
 "nbformat_minor": 5
}
